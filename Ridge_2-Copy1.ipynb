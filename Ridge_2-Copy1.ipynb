{
 "cells": [
  {
   "cell_type": "markdown",
   "id": "5a922f59-99dd-4661-9521-fd5a9822968f",
   "metadata": {},
   "source": [
    "# 正則化項による回帰"
   ]
  },
  {
   "cell_type": "markdown",
   "id": "6b284c12-3c5e-48d0-997c-dc558d122d9a",
   "metadata": {},
   "source": [
    "## ライブラリのインポート"
   ]
  },
  {
   "cell_type": "code",
   "execution_count": 1,
   "id": "20ed1b93-949b-4c09-ac09-b802c81b185d",
   "metadata": {},
   "outputs": [],
   "source": [
    "import numpy as np\n",
    "import pandas as pd\n",
    "import matplotlib.pyplot as plt\n",
    "import seaborn as sns\n",
    "import datetime as dt\n",
    "\n",
    "from sklearn.model_selection import RepeatedKFold, cross_val_score\n",
    "from sklearn.linear_model import Lasso\n",
    "from sklearn.metrics import mean_absolute_percentage_error\n",
    "from sklearn.pipeline import Pipeline\n",
    "from sklearn.preprocessing import StandardScaler"
   ]
  },
  {
   "cell_type": "markdown",
   "id": "f1fc95d2-3286-40bb-a43b-5bde11fcd68b",
   "metadata": {},
   "source": [
    "## データセットのインポート"
   ]
  },
  {
   "cell_type": "code",
   "execution_count": 2,
   "id": "e8ae64a5-c855-44d5-9ca9-d8bd166ef283",
   "metadata": {},
   "outputs": [],
   "source": [
    "train_df = pd.read_csv('train.csv', dtype={1:str}, parse_dates=[1])\n",
    "test_df = pd.read_csv('test.csv', dtype={1:str}, parse_dates=[1])"
   ]
  },
  {
   "cell_type": "markdown",
   "id": "112d8008-a550-452d-9292-1cb729f95204",
   "metadata": {},
   "source": [
    "## データセットの前処理"
   ]
  },
  {
   "cell_type": "code",
   "execution_count": 3,
   "id": "86f2a5da-dc12-46f1-850e-7e3810bac636",
   "metadata": {},
   "outputs": [
    {
     "data": {
      "text/html": [
       "<div>\n",
       "<style scoped>\n",
       "    .dataframe tbody tr th:only-of-type {\n",
       "        vertical-align: middle;\n",
       "    }\n",
       "\n",
       "    .dataframe tbody tr th {\n",
       "        vertical-align: top;\n",
       "    }\n",
       "\n",
       "    .dataframe thead th {\n",
       "        text-align: right;\n",
       "    }\n",
       "</style>\n",
       "<table border=\"1\" class=\"dataframe\">\n",
       "  <thead>\n",
       "    <tr style=\"text-align: right;\">\n",
       "      <th></th>\n",
       "      <th>row_id</th>\n",
       "      <th>date</th>\n",
       "      <th>country</th>\n",
       "      <th>store</th>\n",
       "      <th>product</th>\n",
       "      <th>num_sold</th>\n",
       "    </tr>\n",
       "  </thead>\n",
       "  <tbody>\n",
       "    <tr>\n",
       "      <th>0</th>\n",
       "      <td>0</td>\n",
       "      <td>2017-01-01</td>\n",
       "      <td>Belgium</td>\n",
       "      <td>KaggleMart</td>\n",
       "      <td>Kaggle Advanced Techniques</td>\n",
       "      <td>663</td>\n",
       "    </tr>\n",
       "    <tr>\n",
       "      <th>1</th>\n",
       "      <td>1</td>\n",
       "      <td>2017-01-01</td>\n",
       "      <td>Belgium</td>\n",
       "      <td>KaggleMart</td>\n",
       "      <td>Kaggle Getting Started</td>\n",
       "      <td>615</td>\n",
       "    </tr>\n",
       "    <tr>\n",
       "      <th>2</th>\n",
       "      <td>2</td>\n",
       "      <td>2017-01-01</td>\n",
       "      <td>Belgium</td>\n",
       "      <td>KaggleMart</td>\n",
       "      <td>Kaggle Recipe Book</td>\n",
       "      <td>480</td>\n",
       "    </tr>\n",
       "    <tr>\n",
       "      <th>3</th>\n",
       "      <td>3</td>\n",
       "      <td>2017-01-01</td>\n",
       "      <td>Belgium</td>\n",
       "      <td>KaggleMart</td>\n",
       "      <td>Kaggle for Kids: One Smart Goose</td>\n",
       "      <td>710</td>\n",
       "    </tr>\n",
       "    <tr>\n",
       "      <th>4</th>\n",
       "      <td>4</td>\n",
       "      <td>2017-01-01</td>\n",
       "      <td>Belgium</td>\n",
       "      <td>KaggleRama</td>\n",
       "      <td>Kaggle Advanced Techniques</td>\n",
       "      <td>240</td>\n",
       "    </tr>\n",
       "  </tbody>\n",
       "</table>\n",
       "</div>"
      ],
      "text/plain": [
       "   row_id       date  country       store                           product  \\\n",
       "0       0 2017-01-01  Belgium  KaggleMart        Kaggle Advanced Techniques   \n",
       "1       1 2017-01-01  Belgium  KaggleMart            Kaggle Getting Started   \n",
       "2       2 2017-01-01  Belgium  KaggleMart                Kaggle Recipe Book   \n",
       "3       3 2017-01-01  Belgium  KaggleMart  Kaggle for Kids: One Smart Goose   \n",
       "4       4 2017-01-01  Belgium  KaggleRama        Kaggle Advanced Techniques   \n",
       "\n",
       "   num_sold  \n",
       "0       663  \n",
       "1       615  \n",
       "2       480  \n",
       "3       710  \n",
       "4       240  "
      ]
     },
     "execution_count": 3,
     "metadata": {},
     "output_type": "execute_result"
    }
   ],
   "source": [
    "train_df.head()"
   ]
  },
  {
   "cell_type": "code",
   "execution_count": 4,
   "id": "e038e23a-06dc-49b2-9b8c-10c367974d02",
   "metadata": {},
   "outputs": [
    {
     "data": {
      "text/html": [
       "<div>\n",
       "<style scoped>\n",
       "    .dataframe tbody tr th:only-of-type {\n",
       "        vertical-align: middle;\n",
       "    }\n",
       "\n",
       "    .dataframe tbody tr th {\n",
       "        vertical-align: top;\n",
       "    }\n",
       "\n",
       "    .dataframe thead th {\n",
       "        text-align: right;\n",
       "    }\n",
       "</style>\n",
       "<table border=\"1\" class=\"dataframe\">\n",
       "  <thead>\n",
       "    <tr style=\"text-align: right;\">\n",
       "      <th></th>\n",
       "      <th>row_id</th>\n",
       "      <th>date</th>\n",
       "      <th>country</th>\n",
       "      <th>store</th>\n",
       "      <th>product</th>\n",
       "    </tr>\n",
       "  </thead>\n",
       "  <tbody>\n",
       "    <tr>\n",
       "      <th>0</th>\n",
       "      <td>70128</td>\n",
       "      <td>2021-01-01</td>\n",
       "      <td>Belgium</td>\n",
       "      <td>KaggleMart</td>\n",
       "      <td>Kaggle Advanced Techniques</td>\n",
       "    </tr>\n",
       "    <tr>\n",
       "      <th>1</th>\n",
       "      <td>70129</td>\n",
       "      <td>2021-01-01</td>\n",
       "      <td>Belgium</td>\n",
       "      <td>KaggleMart</td>\n",
       "      <td>Kaggle Getting Started</td>\n",
       "    </tr>\n",
       "    <tr>\n",
       "      <th>2</th>\n",
       "      <td>70130</td>\n",
       "      <td>2021-01-01</td>\n",
       "      <td>Belgium</td>\n",
       "      <td>KaggleMart</td>\n",
       "      <td>Kaggle Recipe Book</td>\n",
       "    </tr>\n",
       "    <tr>\n",
       "      <th>3</th>\n",
       "      <td>70131</td>\n",
       "      <td>2021-01-01</td>\n",
       "      <td>Belgium</td>\n",
       "      <td>KaggleMart</td>\n",
       "      <td>Kaggle for Kids: One Smart Goose</td>\n",
       "    </tr>\n",
       "    <tr>\n",
       "      <th>4</th>\n",
       "      <td>70132</td>\n",
       "      <td>2021-01-01</td>\n",
       "      <td>Belgium</td>\n",
       "      <td>KaggleRama</td>\n",
       "      <td>Kaggle Advanced Techniques</td>\n",
       "    </tr>\n",
       "  </tbody>\n",
       "</table>\n",
       "</div>"
      ],
      "text/plain": [
       "   row_id       date  country       store                           product\n",
       "0   70128 2021-01-01  Belgium  KaggleMart        Kaggle Advanced Techniques\n",
       "1   70129 2021-01-01  Belgium  KaggleMart            Kaggle Getting Started\n",
       "2   70130 2021-01-01  Belgium  KaggleMart                Kaggle Recipe Book\n",
       "3   70131 2021-01-01  Belgium  KaggleMart  Kaggle for Kids: One Smart Goose\n",
       "4   70132 2021-01-01  Belgium  KaggleRama        Kaggle Advanced Techniques"
      ]
     },
     "execution_count": 4,
     "metadata": {},
     "output_type": "execute_result"
    }
   ],
   "source": [
    "test_df.head()"
   ]
  },
  {
   "cell_type": "code",
   "execution_count": 5,
   "id": "40c7c0df-850c-480b-aa75-5a270f38e0d3",
   "metadata": {},
   "outputs": [
    {
     "name": "stdout",
     "output_type": "stream",
     "text": [
      "学習データのデータ数:70128\n",
      "テストデータのデータ数:17520\n"
     ]
    }
   ],
   "source": [
    "print('学習データのデータ数:{}'.format(len(train_df)))\n",
    "print('テストデータのデータ数:{}'.format(len(test_df)))"
   ]
  },
  {
   "cell_type": "code",
   "execution_count": 6,
   "id": "5a10fb8b-5798-421e-a562-40b51c0771bf",
   "metadata": {},
   "outputs": [
    {
     "data": {
      "text/html": [
       "<div>\n",
       "<style scoped>\n",
       "    .dataframe tbody tr th:only-of-type {\n",
       "        vertical-align: middle;\n",
       "    }\n",
       "\n",
       "    .dataframe tbody tr th {\n",
       "        vertical-align: top;\n",
       "    }\n",
       "\n",
       "    .dataframe thead th {\n",
       "        text-align: right;\n",
       "    }\n",
       "</style>\n",
       "<table border=\"1\" class=\"dataframe\">\n",
       "  <thead>\n",
       "    <tr style=\"text-align: right;\">\n",
       "      <th></th>\n",
       "      <th>row_id</th>\n",
       "      <th>num_sold</th>\n",
       "    </tr>\n",
       "  </thead>\n",
       "  <tbody>\n",
       "    <tr>\n",
       "      <th>count</th>\n",
       "      <td>70128.000000</td>\n",
       "      <td>70128.000000</td>\n",
       "    </tr>\n",
       "    <tr>\n",
       "      <th>mean</th>\n",
       "      <td>35063.500000</td>\n",
       "      <td>194.296986</td>\n",
       "    </tr>\n",
       "    <tr>\n",
       "      <th>std</th>\n",
       "      <td>20244.354176</td>\n",
       "      <td>126.893874</td>\n",
       "    </tr>\n",
       "    <tr>\n",
       "      <th>min</th>\n",
       "      <td>0.000000</td>\n",
       "      <td>19.000000</td>\n",
       "    </tr>\n",
       "    <tr>\n",
       "      <th>25%</th>\n",
       "      <td>17531.750000</td>\n",
       "      <td>95.000000</td>\n",
       "    </tr>\n",
       "    <tr>\n",
       "      <th>50%</th>\n",
       "      <td>35063.500000</td>\n",
       "      <td>148.000000</td>\n",
       "    </tr>\n",
       "    <tr>\n",
       "      <th>75%</th>\n",
       "      <td>52595.250000</td>\n",
       "      <td>283.000000</td>\n",
       "    </tr>\n",
       "    <tr>\n",
       "      <th>max</th>\n",
       "      <td>70127.000000</td>\n",
       "      <td>986.000000</td>\n",
       "    </tr>\n",
       "  </tbody>\n",
       "</table>\n",
       "</div>"
      ],
      "text/plain": [
       "             row_id      num_sold\n",
       "count  70128.000000  70128.000000\n",
       "mean   35063.500000    194.296986\n",
       "std    20244.354176    126.893874\n",
       "min        0.000000     19.000000\n",
       "25%    17531.750000     95.000000\n",
       "50%    35063.500000    148.000000\n",
       "75%    52595.250000    283.000000\n",
       "max    70127.000000    986.000000"
      ]
     },
     "execution_count": 6,
     "metadata": {},
     "output_type": "execute_result"
    }
   ],
   "source": [
    "train_df.describe()"
   ]
  },
  {
   "cell_type": "code",
   "execution_count": 7,
   "id": "bbdb9ae4-4561-4962-a41f-f8c94df07267",
   "metadata": {},
   "outputs": [
    {
     "data": {
      "text/plain": [
       "Index(['row_id', 'date', 'country', 'store', 'product', 'num_sold'], dtype='object')"
      ]
     },
     "execution_count": 7,
     "metadata": {},
     "output_type": "execute_result"
    }
   ],
   "source": [
    "train_df.columns"
   ]
  },
  {
   "cell_type": "code",
   "execution_count": 8,
   "id": "2ce16938-ae02-42c2-be22-4ffd84486dde",
   "metadata": {},
   "outputs": [
    {
     "data": {
      "text/plain": [
       "Index(['row_id', 'date', 'country', 'store', 'product'], dtype='object')"
      ]
     },
     "execution_count": 8,
     "metadata": {},
     "output_type": "execute_result"
    }
   ],
   "source": [
    "test_df.columns"
   ]
  },
  {
   "cell_type": "markdown",
   "id": "0a205ed3-e65b-4995-a98e-dfcf431a5edd",
   "metadata": {},
   "source": [
    "### 月のデータの抽出"
   ]
  },
  {
   "cell_type": "code",
   "execution_count": 9,
   "id": "81016af1-2316-41d8-abf4-28cddaa4616f",
   "metadata": {},
   "outputs": [
    {
     "data": {
      "text/plain": [
       "1461"
      ]
     },
     "execution_count": 9,
     "metadata": {},
     "output_type": "execute_result"
    }
   ],
   "source": [
    "train_df['date'].nunique()"
   ]
  },
  {
   "cell_type": "code",
   "execution_count": 10,
   "id": "5787f476-72c1-474d-953a-e4015abf709d",
   "metadata": {},
   "outputs": [],
   "source": [
    "train_df['year'] = train_df['date'].dt.year\n",
    "test_df['year'] = test_df['date'].dt.year\n",
    "train_df['month'] = train_df['date'].dt.month\n",
    "test_df['month'] = test_df['date'].dt.month\n",
    "train_df['day'] = train_df['date'].dt.day\n",
    "test_df['day'] = test_df['date'].dt.day"
   ]
  },
  {
   "cell_type": "code",
   "execution_count": 12,
   "id": "b5be57f5-cec2-4b63-86fb-ecf09fd48803",
   "metadata": {},
   "outputs": [],
   "source": [
    "train_df = train_df.drop('date', axis=1)\n",
    "test_df = test_df.drop('date', axis=1)"
   ]
  },
  {
   "cell_type": "code",
   "execution_count": 13,
   "id": "8e42f367-003c-4260-864a-41e664581e72",
   "metadata": {},
   "outputs": [
    {
     "data": {
      "text/html": [
       "<div>\n",
       "<style scoped>\n",
       "    .dataframe tbody tr th:only-of-type {\n",
       "        vertical-align: middle;\n",
       "    }\n",
       "\n",
       "    .dataframe tbody tr th {\n",
       "        vertical-align: top;\n",
       "    }\n",
       "\n",
       "    .dataframe thead th {\n",
       "        text-align: right;\n",
       "    }\n",
       "</style>\n",
       "<table border=\"1\" class=\"dataframe\">\n",
       "  <thead>\n",
       "    <tr style=\"text-align: right;\">\n",
       "      <th></th>\n",
       "      <th>row_id</th>\n",
       "      <th>country</th>\n",
       "      <th>store</th>\n",
       "      <th>product</th>\n",
       "      <th>num_sold</th>\n",
       "      <th>year</th>\n",
       "      <th>month</th>\n",
       "      <th>day</th>\n",
       "    </tr>\n",
       "  </thead>\n",
       "  <tbody>\n",
       "    <tr>\n",
       "      <th>0</th>\n",
       "      <td>0</td>\n",
       "      <td>Belgium</td>\n",
       "      <td>KaggleMart</td>\n",
       "      <td>Kaggle Advanced Techniques</td>\n",
       "      <td>663</td>\n",
       "      <td>2017</td>\n",
       "      <td>1</td>\n",
       "      <td>1</td>\n",
       "    </tr>\n",
       "    <tr>\n",
       "      <th>1</th>\n",
       "      <td>1</td>\n",
       "      <td>Belgium</td>\n",
       "      <td>KaggleMart</td>\n",
       "      <td>Kaggle Getting Started</td>\n",
       "      <td>615</td>\n",
       "      <td>2017</td>\n",
       "      <td>1</td>\n",
       "      <td>1</td>\n",
       "    </tr>\n",
       "    <tr>\n",
       "      <th>2</th>\n",
       "      <td>2</td>\n",
       "      <td>Belgium</td>\n",
       "      <td>KaggleMart</td>\n",
       "      <td>Kaggle Recipe Book</td>\n",
       "      <td>480</td>\n",
       "      <td>2017</td>\n",
       "      <td>1</td>\n",
       "      <td>1</td>\n",
       "    </tr>\n",
       "    <tr>\n",
       "      <th>3</th>\n",
       "      <td>3</td>\n",
       "      <td>Belgium</td>\n",
       "      <td>KaggleMart</td>\n",
       "      <td>Kaggle for Kids: One Smart Goose</td>\n",
       "      <td>710</td>\n",
       "      <td>2017</td>\n",
       "      <td>1</td>\n",
       "      <td>1</td>\n",
       "    </tr>\n",
       "    <tr>\n",
       "      <th>4</th>\n",
       "      <td>4</td>\n",
       "      <td>Belgium</td>\n",
       "      <td>KaggleRama</td>\n",
       "      <td>Kaggle Advanced Techniques</td>\n",
       "      <td>240</td>\n",
       "      <td>2017</td>\n",
       "      <td>1</td>\n",
       "      <td>1</td>\n",
       "    </tr>\n",
       "  </tbody>\n",
       "</table>\n",
       "</div>"
      ],
      "text/plain": [
       "   row_id  country       store                           product  num_sold  \\\n",
       "0       0  Belgium  KaggleMart        Kaggle Advanced Techniques       663   \n",
       "1       1  Belgium  KaggleMart            Kaggle Getting Started       615   \n",
       "2       2  Belgium  KaggleMart                Kaggle Recipe Book       480   \n",
       "3       3  Belgium  KaggleMart  Kaggle for Kids: One Smart Goose       710   \n",
       "4       4  Belgium  KaggleRama        Kaggle Advanced Techniques       240   \n",
       "\n",
       "   year  month  day  \n",
       "0  2017      1    1  \n",
       "1  2017      1    1  \n",
       "2  2017      1    1  \n",
       "3  2017      1    1  \n",
       "4  2017      1    1  "
      ]
     },
     "execution_count": 13,
     "metadata": {},
     "output_type": "execute_result"
    }
   ],
   "source": [
    "train_df.head()"
   ]
  },
  {
   "cell_type": "markdown",
   "id": "9d36499c-5ae1-46e3-97ce-da96af8a0059",
   "metadata": {},
   "source": [
    "### 特徴量と目的変数"
   ]
  },
  {
   "cell_type": "code",
   "execution_count": 14,
   "id": "60e7e0fc-ff6b-4f02-a7ab-7694fe008360",
   "metadata": {},
   "outputs": [],
   "source": [
    "y_col = 'num_sold'\n",
    "X = train_df.loc[:, train_df.columns!=y_col]\n",
    "y = train_df[y_col]"
   ]
  },
  {
   "cell_type": "code",
   "execution_count": 15,
   "id": "98fa82d9-adac-4c2d-beae-2fa56dcc6a6e",
   "metadata": {},
   "outputs": [],
   "source": [
    "# 数値カラムの取得\n",
    "numeric_cols = X.select_dtypes(include=np.number).columns.to_list()"
   ]
  },
  {
   "cell_type": "markdown",
   "id": "2cb490ee-cbc4-4ba1-9ecd-d2f1a0adb9e4",
   "metadata": {},
   "source": [
    "### one-hot-encoding"
   ]
  },
  {
   "cell_type": "code",
   "execution_count": 16,
   "id": "748cd6f1-6499-4bdc-8422-36ec312c451e",
   "metadata": {},
   "outputs": [
    {
     "data": {
      "text/plain": [
       "array(['Belgium', 'France', 'Germany', 'Italy', 'Poland', 'Spain'],\n",
       "      dtype=object)"
      ]
     },
     "execution_count": 16,
     "metadata": {},
     "output_type": "execute_result"
    }
   ],
   "source": [
    "X['country'].unique()"
   ]
  },
  {
   "cell_type": "code",
   "execution_count": 17,
   "id": "b6a6fcbf-0209-4b1d-97cb-6324456b76fd",
   "metadata": {},
   "outputs": [
    {
     "data": {
      "text/plain": [
       "array(['KaggleMart', 'KaggleRama'], dtype=object)"
      ]
     },
     "execution_count": 17,
     "metadata": {},
     "output_type": "execute_result"
    }
   ],
   "source": [
    "X['store'].unique()"
   ]
  },
  {
   "cell_type": "code",
   "execution_count": 18,
   "id": "f070f70b-2cdf-4975-a69f-0649f5106e22",
   "metadata": {},
   "outputs": [
    {
     "data": {
      "text/plain": [
       "array(['Kaggle Advanced Techniques', 'Kaggle Getting Started',\n",
       "       'Kaggle Recipe Book', 'Kaggle for Kids: One Smart Goose'],\n",
       "      dtype=object)"
      ]
     },
     "execution_count": 18,
     "metadata": {},
     "output_type": "execute_result"
    }
   ],
   "source": [
    "X['product'].unique()"
   ]
  },
  {
   "cell_type": "code",
   "execution_count": 19,
   "id": "babd947a-5252-459e-a6a5-24c7d77eb55c",
   "metadata": {},
   "outputs": [],
   "source": [
    "X = pd.get_dummies(X, drop_first=True)\n",
    "test_df = pd.get_dummies(test_df, drop_first=True)"
   ]
  },
  {
   "cell_type": "code",
   "execution_count": 20,
   "id": "29020f84-0611-445c-b36a-2acd5bde2223",
   "metadata": {},
   "outputs": [],
   "source": [
    "X = X.drop('row_id', axis=1)\n",
    "index_test_df = test_df['row_id']\n",
    "test_df = test_df.drop('row_id', axis=1)"
   ]
  },
  {
   "cell_type": "markdown",
   "id": "fda0c140-d03f-4382-91eb-2bb22056e70e",
   "metadata": {},
   "source": [
    "### k-Fold CV"
   ]
  },
  {
   "cell_type": "code",
   "execution_count": 21,
   "id": "eb9ccc8c-99c2-4634-8e8b-915849b8b68a",
   "metadata": {},
   "outputs": [],
   "source": [
    "k = 5\n",
    "n_repeats = 3\n",
    "cv = RepeatedKFold(n_splits=k, n_repeats=n_repeats, random_state=0)\n",
    "alphas = np.logspace(-3, 3)\n",
    "smape_list = []\n",
    "for alpha in alphas:\n",
    "    pipeline = Pipeline(steps=[('scaler', StandardScaler()), ('lasso', Lasso(alpha))])\n",
    "    smape_list.append(cross_val_score(pipeline, X, y, scoring='neg_mean_absolute_percentage_error', cv=cv).mean())"
   ]
  },
  {
   "cell_type": "code",
   "execution_count": 22,
   "id": "2a6a22d2-ff39-4ca5-8257-2291485dddd0",
   "metadata": {},
   "outputs": [],
   "source": [
    "smape_list = [-1 * smape for smape in smape_list] "
   ]
  },
  {
   "cell_type": "code",
   "execution_count": 23,
   "id": "4f19daf2-5e64-4f22-9a4c-419f625bbfc5",
   "metadata": {},
   "outputs": [
    {
     "data": {
      "text/plain": [
       "Text(0, 0.5, 'test SMAPE')"
      ]
     },
     "execution_count": 23,
     "metadata": {},
     "output_type": "execute_result"
    },
    {
     "data": {
      "image/png": "[encoded data removed]",
      "text/plain": [
       "<Figure size 432x288 with 1 Axes>"
      ]
     },
     "metadata": {
      "needs_background": "light"
     },
     "output_type": "display_data"
    }
   ],
   "source": [
    "plt.plot(alphas, smape_list)\n",
    "plt.xscale('log')\n",
    "plt.xlabel('lambda')\n",
    "plt.ylabel('test SMAPE')"
   ]
  },
  {
   "cell_type": "code",
   "execution_count": 24,
   "id": "d632b062-747d-4ec3-825e-2c9e2006c542",
   "metadata": {},
   "outputs": [
    {
     "data": {
      "text/plain": [
       "array([-0.27877873, -0.28035188, -0.27705154, -0.28051992, -0.27970358,\n",
       "       -0.27987907, -0.28025804, -0.27819779, -0.28062344, -0.27743505,\n",
       "       -0.28116915, -0.28040879, -0.2770726 , -0.27763889, -0.28027825])"
      ]
     },
     "execution_count": 24,
     "metadata": {},
     "output_type": "execute_result"
    }
   ],
   "source": [
    "pipeline = Pipeline(steps=[('scaler', StandardScaler()), ('lasso', Lasso(alphas[np.argmin(smape_list)]))])\n",
    "scores = cross_val_score(pipeline, X, y, scoring='neg_mean_absolute_percentage_error', cv=cv)\n",
    "scores"
   ]
  },
  {
   "cell_type": "code",
   "execution_count": 25,
   "id": "f3c546c8-0b6f-484c-95d5-33f475e976b8",
   "metadata": {},
   "outputs": [
    {
     "data": {
      "text/plain": [
       "Pipeline(steps=[('scaler', StandardScaler()),\n",
       "                ('lasso', Lasso(alpha=6.25055192527397))])"
      ]
     },
     "execution_count": 25,
     "metadata": {},
     "output_type": "execute_result"
    }
   ],
   "source": [
    "pipeline.fit(X, y)"
   ]
  },
  {
   "cell_type": "code",
   "execution_count": 26,
   "id": "e353c0b9-b43f-4721-8502-c14c17cc9471",
   "metadata": {},
   "outputs": [],
   "source": [
    "X_test = test_df.values"
   ]
  },
  {
   "cell_type": "code",
   "execution_count": 27,
   "id": "7a6d8316-d7f4-4f1c-886d-21c5419cc79b",
   "metadata": {},
   "outputs": [
    {
     "name": "stderr",
     "output_type": "stream",
     "text": [
      "/Users/atsus/opt/anaconda3/envs/py3-TF2.0/lib/python3.7/site-packages/sklearn/base.py:451: UserWarning: X does not have valid feature names, but StandardScaler was fitted with feature names\n",
      "  \"X does not have valid feature names, but\"\n"
     ]
    }
   ],
   "source": [
    "y_pred = pipeline.predict(X_test)"
   ]
  },
  {
   "cell_type": "code",
   "execution_count": 28,
   "id": "328a39d1-04b1-44fb-a2fc-9a0d3ba48124",
   "metadata": {},
   "outputs": [
    {
     "data": {
      "text/plain": [
       "array([333.21473468, 310.55787098, 265.66130841, ..., 107.48483816,\n",
       "        62.58827558, 147.89334243])"
      ]
     },
     "execution_count": 28,
     "metadata": {},
     "output_type": "execute_result"
    }
   ],
   "source": [
    "y_pred"
   ]
  },
  {
   "cell_type": "code",
   "execution_count": 29,
   "id": "1ae971dc-c082-44db-b484-26c83b503cb0",
   "metadata": {},
   "outputs": [],
   "source": [
    "data = {\n",
    "    'row_id': index_test_df,\n",
    "    'num_sold': y_pred\n",
    "}\n",
    "sub = pd.DataFrame(data)"
   ]
  },
  {
   "cell_type": "code",
   "execution_count": 30,
   "id": "a1d6d3d1-7cb5-4660-aa59-0258e569547e",
   "metadata": {},
   "outputs": [
    {
     "data": {
      "text/html": [
       "<div>\n",
       "<style scoped>\n",
       "    .dataframe tbody tr th:only-of-type {\n",
       "        vertical-align: middle;\n",
       "    }\n",
       "\n",
       "    .dataframe tbody tr th {\n",
       "        vertical-align: top;\n",
       "    }\n",
       "\n",
       "    .dataframe thead th {\n",
       "        text-align: right;\n",
       "    }\n",
       "</style>\n",
       "<table border=\"1\" class=\"dataframe\">\n",
       "  <thead>\n",
       "    <tr style=\"text-align: right;\">\n",
       "      <th></th>\n",
       "      <th>row_id</th>\n",
       "      <th>num_sold</th>\n",
       "    </tr>\n",
       "  </thead>\n",
       "  <tbody>\n",
       "    <tr>\n",
       "      <th>0</th>\n",
       "      <td>70128</td>\n",
       "      <td>333.214735</td>\n",
       "    </tr>\n",
       "    <tr>\n",
       "      <th>1</th>\n",
       "      <td>70129</td>\n",
       "      <td>310.557871</td>\n",
       "    </tr>\n",
       "    <tr>\n",
       "      <th>2</th>\n",
       "      <td>70130</td>\n",
       "      <td>265.661308</td>\n",
       "    </tr>\n",
       "    <tr>\n",
       "      <th>3</th>\n",
       "      <td>70131</td>\n",
       "      <td>350.966375</td>\n",
       "    </tr>\n",
       "    <tr>\n",
       "      <th>4</th>\n",
       "      <td>70132</td>\n",
       "      <td>157.236230</td>\n",
       "    </tr>\n",
       "  </tbody>\n",
       "</table>\n",
       "</div>"
      ],
      "text/plain": [
       "   row_id    num_sold\n",
       "0   70128  333.214735\n",
       "1   70129  310.557871\n",
       "2   70130  265.661308\n",
       "3   70131  350.966375\n",
       "4   70132  157.236230"
      ]
     },
     "execution_count": 30,
     "metadata": {},
     "output_type": "execute_result"
    }
   ],
   "source": [
    "sub.head()"
   ]
  },
  {
   "cell_type": "code",
   "execution_count": 32,
   "id": "f8c93dc1-e872-4ca2-971b-ad740ca3f22e",
   "metadata": {},
   "outputs": [],
   "source": [
    "sub.to_csv('submission_2.csv', index=False)"
   ]
  },
  {
   "cell_type": "code",
   "execution_count": null,
   "id": "62a8509a-5e37-4ed4-a189-43372f326d17",
   "metadata": {},
   "outputs": [],
   "source": []
  }
 ],
 "metadata": {
  "kernelspec": {
   "display_name": "Python 3 (ipykernel)",
   "language": "python",
   "name": "python3"
  },
  "language_info": {
   "codemirror_mode": {
    "name": "ipython",
    "version": 3
   },
   "file_extension": ".py",
   "mimetype": "text/x-python",
   "name": "python",
   "nbconvert_exporter": "python",
   "pygments_lexer": "ipython3",
   "version": "3.7.13"
  }
 },
 "nbformat": 4,
 "nbformat_minor": 5
}
