{
 "cells": [
  {
   "cell_type": "markdown",
   "id": "5a922f59-99dd-4661-9521-fd5a9822968f",
   "metadata": {},
   "source": [
    "# 正則化項による回帰"
   ]
  },
  {
   "cell_type": "markdown",
   "id": "6b284c12-3c5e-48d0-997c-dc558d122d9a",
   "metadata": {},
   "source": [
    "## ライブラリのインポート"
   ]
  },
  {
   "cell_type": "code",
   "execution_count": 82,
   "id": "20ed1b93-949b-4c09-ac09-b802c81b185d",
   "metadata": {},
   "outputs": [],
   "source": [
    "import numpy as np\n",
    "import pandas as pd\n",
    "import matplotlib.pyplot as plt\n",
    "import seaborn as sns\n",
    "from datetime import datetime, date\n",
    "import datetime as dt\n",
    "\n",
    "from sklearn.model_selection import train_test_split\n",
    "from sklearn.linear_model import Lasso\n",
    "from sklearn.metrics import mean_absolute_percentage_error\n",
    "from sklearn.pipeline import Pipeline\n",
    "from sklearn.preprocessing import StandardScaler\n",
    "\n",
    "%matplotlib inline"
   ]
  },
  {
   "cell_type": "markdown",
   "id": "f1fc95d2-3286-40bb-a43b-5bde11fcd68b",
   "metadata": {},
   "source": [
    "## データセットのインポート"
   ]
  },
  {
   "cell_type": "code",
   "execution_count": 2,
   "id": "e8ae64a5-c855-44d5-9ca9-d8bd166ef283",
   "metadata": {},
   "outputs": [],
   "source": [
    "train_df = pd.read_csv('train.csv')\n",
    "test_df = pd.read_csv('test.csv')"
   ]
  },
  {
   "cell_type": "markdown",
   "id": "112d8008-a550-452d-9292-1cb729f95204",
   "metadata": {},
   "source": [
    "## データセットの前処理"
   ]
  },
  {
   "cell_type": "code",
   "execution_count": 3,
   "id": "86f2a5da-dc12-46f1-850e-7e3810bac636",
   "metadata": {},
   "outputs": [
    {
     "data": {
      "text/html": [
       "<div>\n",
       "<style scoped>\n",
       "    .dataframe tbody tr th:only-of-type {\n",
       "        vertical-align: middle;\n",
       "    }\n",
       "\n",
       "    .dataframe tbody tr th {\n",
       "        vertical-align: top;\n",
       "    }\n",
       "\n",
       "    .dataframe thead th {\n",
       "        text-align: right;\n",
       "    }\n",
       "</style>\n",
       "<table border=\"1\" class=\"dataframe\">\n",
       "  <thead>\n",
       "    <tr style=\"text-align: right;\">\n",
       "      <th></th>\n",
       "      <th>row_id</th>\n",
       "      <th>date</th>\n",
       "      <th>country</th>\n",
       "      <th>store</th>\n",
       "      <th>product</th>\n",
       "      <th>num_sold</th>\n",
       "    </tr>\n",
       "  </thead>\n",
       "  <tbody>\n",
       "    <tr>\n",
       "      <th>0</th>\n",
       "      <td>0</td>\n",
       "      <td>2017-01-01</td>\n",
       "      <td>Belgium</td>\n",
       "      <td>KaggleMart</td>\n",
       "      <td>Kaggle Advanced Techniques</td>\n",
       "      <td>663</td>\n",
       "    </tr>\n",
       "    <tr>\n",
       "      <th>1</th>\n",
       "      <td>1</td>\n",
       "      <td>2017-01-01</td>\n",
       "      <td>Belgium</td>\n",
       "      <td>KaggleMart</td>\n",
       "      <td>Kaggle Getting Started</td>\n",
       "      <td>615</td>\n",
       "    </tr>\n",
       "    <tr>\n",
       "      <th>2</th>\n",
       "      <td>2</td>\n",
       "      <td>2017-01-01</td>\n",
       "      <td>Belgium</td>\n",
       "      <td>KaggleMart</td>\n",
       "      <td>Kaggle Recipe Book</td>\n",
       "      <td>480</td>\n",
       "    </tr>\n",
       "    <tr>\n",
       "      <th>3</th>\n",
       "      <td>3</td>\n",
       "      <td>2017-01-01</td>\n",
       "      <td>Belgium</td>\n",
       "      <td>KaggleMart</td>\n",
       "      <td>Kaggle for Kids: One Smart Goose</td>\n",
       "      <td>710</td>\n",
       "    </tr>\n",
       "    <tr>\n",
       "      <th>4</th>\n",
       "      <td>4</td>\n",
       "      <td>2017-01-01</td>\n",
       "      <td>Belgium</td>\n",
       "      <td>KaggleRama</td>\n",
       "      <td>Kaggle Advanced Techniques</td>\n",
       "      <td>240</td>\n",
       "    </tr>\n",
       "  </tbody>\n",
       "</table>\n",
       "</div>"
      ],
      "text/plain": [
       "   row_id        date  country       store                           product  \\\n",
       "0       0  2017-01-01  Belgium  KaggleMart        Kaggle Advanced Techniques   \n",
       "1       1  2017-01-01  Belgium  KaggleMart            Kaggle Getting Started   \n",
       "2       2  2017-01-01  Belgium  KaggleMart                Kaggle Recipe Book   \n",
       "3       3  2017-01-01  Belgium  KaggleMart  Kaggle for Kids: One Smart Goose   \n",
       "4       4  2017-01-01  Belgium  KaggleRama        Kaggle Advanced Techniques   \n",
       "\n",
       "   num_sold  \n",
       "0       663  \n",
       "1       615  \n",
       "2       480  \n",
       "3       710  \n",
       "4       240  "
      ]
     },
     "execution_count": 3,
     "metadata": {},
     "output_type": "execute_result"
    }
   ],
   "source": [
    "train_df.head()"
   ]
  },
  {
   "cell_type": "code",
   "execution_count": 4,
   "id": "e038e23a-06dc-49b2-9b8c-10c367974d02",
   "metadata": {},
   "outputs": [
    {
     "data": {
      "text/html": [
       "<div>\n",
       "<style scoped>\n",
       "    .dataframe tbody tr th:only-of-type {\n",
       "        vertical-align: middle;\n",
       "    }\n",
       "\n",
       "    .dataframe tbody tr th {\n",
       "        vertical-align: top;\n",
       "    }\n",
       "\n",
       "    .dataframe thead th {\n",
       "        text-align: right;\n",
       "    }\n",
       "</style>\n",
       "<table border=\"1\" class=\"dataframe\">\n",
       "  <thead>\n",
       "    <tr style=\"text-align: right;\">\n",
       "      <th></th>\n",
       "      <th>row_id</th>\n",
       "      <th>date</th>\n",
       "      <th>country</th>\n",
       "      <th>store</th>\n",
       "      <th>product</th>\n",
       "    </tr>\n",
       "  </thead>\n",
       "  <tbody>\n",
       "    <tr>\n",
       "      <th>0</th>\n",
       "      <td>70128</td>\n",
       "      <td>2021-01-01</td>\n",
       "      <td>Belgium</td>\n",
       "      <td>KaggleMart</td>\n",
       "      <td>Kaggle Advanced Techniques</td>\n",
       "    </tr>\n",
       "    <tr>\n",
       "      <th>1</th>\n",
       "      <td>70129</td>\n",
       "      <td>2021-01-01</td>\n",
       "      <td>Belgium</td>\n",
       "      <td>KaggleMart</td>\n",
       "      <td>Kaggle Getting Started</td>\n",
       "    </tr>\n",
       "    <tr>\n",
       "      <th>2</th>\n",
       "      <td>70130</td>\n",
       "      <td>2021-01-01</td>\n",
       "      <td>Belgium</td>\n",
       "      <td>KaggleMart</td>\n",
       "      <td>Kaggle Recipe Book</td>\n",
       "    </tr>\n",
       "    <tr>\n",
       "      <th>3</th>\n",
       "      <td>70131</td>\n",
       "      <td>2021-01-01</td>\n",
       "      <td>Belgium</td>\n",
       "      <td>KaggleMart</td>\n",
       "      <td>Kaggle for Kids: One Smart Goose</td>\n",
       "    </tr>\n",
       "    <tr>\n",
       "      <th>4</th>\n",
       "      <td>70132</td>\n",
       "      <td>2021-01-01</td>\n",
       "      <td>Belgium</td>\n",
       "      <td>KaggleRama</td>\n",
       "      <td>Kaggle Advanced Techniques</td>\n",
       "    </tr>\n",
       "  </tbody>\n",
       "</table>\n",
       "</div>"
      ],
      "text/plain": [
       "   row_id        date  country       store                           product\n",
       "0   70128  2021-01-01  Belgium  KaggleMart        Kaggle Advanced Techniques\n",
       "1   70129  2021-01-01  Belgium  KaggleMart            Kaggle Getting Started\n",
       "2   70130  2021-01-01  Belgium  KaggleMart                Kaggle Recipe Book\n",
       "3   70131  2021-01-01  Belgium  KaggleMart  Kaggle for Kids: One Smart Goose\n",
       "4   70132  2021-01-01  Belgium  KaggleRama        Kaggle Advanced Techniques"
      ]
     },
     "execution_count": 4,
     "metadata": {},
     "output_type": "execute_result"
    }
   ],
   "source": [
    "test_df.head()"
   ]
  },
  {
   "cell_type": "code",
   "execution_count": 5,
   "id": "40c7c0df-850c-480b-aa75-5a270f38e0d3",
   "metadata": {},
   "outputs": [
    {
     "name": "stdout",
     "output_type": "stream",
     "text": [
      "学習データのデータ数:70128\n",
      "テストデータのデータ数:17520\n"
     ]
    }
   ],
   "source": [
    "print('学習データのデータ数:{}'.format(len(train_df)))\n",
    "print('テストデータのデータ数:{}'.format(len(test_df)))"
   ]
  },
  {
   "cell_type": "code",
   "execution_count": 6,
   "id": "5a10fb8b-5798-421e-a562-40b51c0771bf",
   "metadata": {},
   "outputs": [
    {
     "data": {
      "text/html": [
       "<div>\n",
       "<style scoped>\n",
       "    .dataframe tbody tr th:only-of-type {\n",
       "        vertical-align: middle;\n",
       "    }\n",
       "\n",
       "    .dataframe tbody tr th {\n",
       "        vertical-align: top;\n",
       "    }\n",
       "\n",
       "    .dataframe thead th {\n",
       "        text-align: right;\n",
       "    }\n",
       "</style>\n",
       "<table border=\"1\" class=\"dataframe\">\n",
       "  <thead>\n",
       "    <tr style=\"text-align: right;\">\n",
       "      <th></th>\n",
       "      <th>row_id</th>\n",
       "      <th>num_sold</th>\n",
       "    </tr>\n",
       "  </thead>\n",
       "  <tbody>\n",
       "    <tr>\n",
       "      <th>count</th>\n",
       "      <td>70128.000000</td>\n",
       "      <td>70128.000000</td>\n",
       "    </tr>\n",
       "    <tr>\n",
       "      <th>mean</th>\n",
       "      <td>35063.500000</td>\n",
       "      <td>194.296986</td>\n",
       "    </tr>\n",
       "    <tr>\n",
       "      <th>std</th>\n",
       "      <td>20244.354176</td>\n",
       "      <td>126.893874</td>\n",
       "    </tr>\n",
       "    <tr>\n",
       "      <th>min</th>\n",
       "      <td>0.000000</td>\n",
       "      <td>19.000000</td>\n",
       "    </tr>\n",
       "    <tr>\n",
       "      <th>25%</th>\n",
       "      <td>17531.750000</td>\n",
       "      <td>95.000000</td>\n",
       "    </tr>\n",
       "    <tr>\n",
       "      <th>50%</th>\n",
       "      <td>35063.500000</td>\n",
       "      <td>148.000000</td>\n",
       "    </tr>\n",
       "    <tr>\n",
       "      <th>75%</th>\n",
       "      <td>52595.250000</td>\n",
       "      <td>283.000000</td>\n",
       "    </tr>\n",
       "    <tr>\n",
       "      <th>max</th>\n",
       "      <td>70127.000000</td>\n",
       "      <td>986.000000</td>\n",
       "    </tr>\n",
       "  </tbody>\n",
       "</table>\n",
       "</div>"
      ],
      "text/plain": [
       "             row_id      num_sold\n",
       "count  70128.000000  70128.000000\n",
       "mean   35063.500000    194.296986\n",
       "std    20244.354176    126.893874\n",
       "min        0.000000     19.000000\n",
       "25%    17531.750000     95.000000\n",
       "50%    35063.500000    148.000000\n",
       "75%    52595.250000    283.000000\n",
       "max    70127.000000    986.000000"
      ]
     },
     "execution_count": 6,
     "metadata": {},
     "output_type": "execute_result"
    }
   ],
   "source": [
    "train_df.describe()"
   ]
  },
  {
   "cell_type": "code",
   "execution_count": 7,
   "id": "bbdb9ae4-4561-4962-a41f-f8c94df07267",
   "metadata": {},
   "outputs": [
    {
     "data": {
      "text/plain": [
       "Index(['row_id', 'date', 'country', 'store', 'product', 'num_sold'], dtype='object')"
      ]
     },
     "execution_count": 7,
     "metadata": {},
     "output_type": "execute_result"
    }
   ],
   "source": [
    "train_df.columns"
   ]
  },
  {
   "cell_type": "code",
   "execution_count": 8,
   "id": "2ce16938-ae02-42c2-be22-4ffd84486dde",
   "metadata": {},
   "outputs": [
    {
     "data": {
      "text/plain": [
       "Index(['row_id', 'date', 'country', 'store', 'product'], dtype='object')"
      ]
     },
     "execution_count": 8,
     "metadata": {},
     "output_type": "execute_result"
    }
   ],
   "source": [
    "test_df.columns"
   ]
  },
  {
   "cell_type": "code",
   "execution_count": 9,
   "id": "32405481-3116-4bfc-af49-430b66558995",
   "metadata": {},
   "outputs": [
    {
     "name": "stdout",
     "output_type": "stream",
     "text": [
      "<class 'pandas.core.frame.DataFrame'>\n",
      "RangeIndex: 70128 entries, 0 to 70127\n",
      "Data columns (total 6 columns):\n",
      " #   Column    Non-Null Count  Dtype \n",
      "---  ------    --------------  ----- \n",
      " 0   row_id    70128 non-null  int64 \n",
      " 1   date      70128 non-null  object\n",
      " 2   country   70128 non-null  object\n",
      " 3   store     70128 non-null  object\n",
      " 4   product   70128 non-null  object\n",
      " 5   num_sold  70128 non-null  int64 \n",
      "dtypes: int64(2), object(4)\n",
      "memory usage: 3.2+ MB\n"
     ]
    }
   ],
   "source": [
    "train_df.info()"
   ]
  },
  {
   "cell_type": "markdown",
   "id": "0a205ed3-e65b-4995-a98e-dfcf431a5edd",
   "metadata": {},
   "source": [
    "### 年のデータの抽出"
   ]
  },
  {
   "cell_type": "code",
   "execution_count": 10,
   "id": "81016af1-2316-41d8-abf4-28cddaa4616f",
   "metadata": {},
   "outputs": [
    {
     "data": {
      "text/plain": [
       "'2017-01-01'"
      ]
     },
     "execution_count": 10,
     "metadata": {},
     "output_type": "execute_result"
    }
   ],
   "source": [
    "train_df['date'][0]"
   ]
  },
  {
   "cell_type": "code",
   "execution_count": null,
   "id": "17581ab5-ceb3-462a-a20c-9001ba4965bd",
   "metadata": {},
   "outputs": [],
   "source": [
    "train_df['year'] = train_df['date'].apply(lambda x: int(x[:4]))\n",
    "test_df['year'] = test_df['date'].apply(lambda x: int(x[:4]))\n",
    "train_df['year']"
   ]
  },
  {
   "cell_type": "markdown",
   "id": "49f5e111-a909-4802-a975-bda580937148",
   "metadata": {},
   "source": [
    "###　年ごとのデータ数"
   ]
  },
  {
   "cell_type": "code",
   "execution_count": 24,
   "id": "00970ada-4208-48bb-a061-3c52c836a623",
   "metadata": {},
   "outputs": [
    {
     "data": {
      "text/plain": [
       "<AxesSubplot:>"
      ]
     },
     "execution_count": 24,
     "metadata": {},
     "output_type": "execute_result"
    },
    {
     "data": {
      "image/png": "[encoded data removed]",
      "text/plain": [
       "<Figure size 432x288 with 1 Axes>"
      ]
     },
     "metadata": {
      "needs_background": "light"
     },
     "output_type": "display_data"
    }
   ],
   "source": [
    "train_df['year'].value_counts().plot(kind='bar', rot=0)"
   ]
  },
  {
   "cell_type": "markdown",
   "id": "ae50261f-7675-4265-a0c0-b9c394125617",
   "metadata": {},
   "source": [
    "### 年ごとのnum_soldの推移\n",
    "- 年ごとにnum_soldが増加する傾向　→　そのままの数字を使う"
   ]
  },
  {
   "cell_type": "code",
   "execution_count": 39,
   "id": "b2e68f6f-6426-4bda-8620-d9c21f170d78",
   "metadata": {},
   "outputs": [
    {
     "data": {
      "text/plain": [
       "<matplotlib.legend.Legend at 0x7fca38a81fd0>"
      ]
     },
     "execution_count": 39,
     "metadata": {},
     "output_type": "execute_result"
    },
    {
     "data": {
      "image/png": "[encoded data removed]",
      "text/plain": [
       "<Figure size 432x288 with 1 Axes>"
      ]
     },
     "metadata": {
      "needs_background": "light"
     },
     "output_type": "display_data"
    }
   ],
   "source": [
    "plt.plot(train_df.groupby('year').median()['num_sold'], label='median')\n",
    "# plt.plot(train_df.groupby('year').mean()['num_sold'], label='mean')\n",
    "plt.xlabel('year')\n",
    "plt.ylabel('num_sold')\n",
    "plt.legend()"
   ]
  },
  {
   "cell_type": "markdown",
   "id": "7a4ac2c1-4013-4731-a4ac-919f828f917c",
   "metadata": {},
   "source": [
    "### 月データの抽出"
   ]
  },
  {
   "cell_type": "code",
   "execution_count": 30,
   "id": "19d72156-3ab7-43e0-bdf1-f31551522b52",
   "metadata": {},
   "outputs": [
    {
     "data": {
      "text/plain": [
       "'2017-01-01'"
      ]
     },
     "execution_count": 30,
     "metadata": {},
     "output_type": "execute_result"
    }
   ],
   "source": [
    "train_df['date'][0]"
   ]
  },
  {
   "cell_type": "code",
   "execution_count": 31,
   "id": "60e116e9-6fe4-4d81-960e-88519c60c8dc",
   "metadata": {},
   "outputs": [
    {
     "data": {
      "text/plain": [
       "0         1\n",
       "1         1\n",
       "2         1\n",
       "3         1\n",
       "4         1\n",
       "         ..\n",
       "70123    12\n",
       "70124    12\n",
       "70125    12\n",
       "70126    12\n",
       "70127    12\n",
       "Name: month, Length: 70128, dtype: int64"
      ]
     },
     "execution_count": 31,
     "metadata": {},
     "output_type": "execute_result"
    }
   ],
   "source": [
    "train_df['month'] = train_df['date'].apply(lambda x: int(x[5:7]))\n",
    "test_df['month'] = test_df['date'].apply(lambda x: int(x[5:7]))\n",
    "train_df['month']"
   ]
  },
  {
   "cell_type": "markdown",
   "id": "99502626-744f-4b3e-97c3-b1c3c045d71c",
   "metadata": {},
   "source": [
    "### 月ごとのデータ数"
   ]
  },
  {
   "cell_type": "code",
   "execution_count": 40,
   "id": "da5c645b-307f-4de9-82bb-4eb599c5c8f6",
   "metadata": {},
   "outputs": [
    {
     "data": {
      "text/plain": [
       "<AxesSubplot:>"
      ]
     },
     "execution_count": 40,
     "metadata": {},
     "output_type": "execute_result"
    },
    {
     "data": {
      "image/png": "[encoded data removed]",
      "text/plain": [
       "<Figure size 432x288 with 1 Axes>"
      ]
     },
     "metadata": {
      "needs_background": "light"
     },
     "output_type": "display_data"
    }
   ],
   "source": [
    "train_df['month'].value_counts().plot(kind='bar', rot=0)"
   ]
  },
  {
   "cell_type": "markdown",
   "id": "9a1ddb13-c9ce-46ef-8922-d35fbb92705f",
   "metadata": {},
   "source": [
    "### 月ごとのnum_soldの推移\n",
    "- 月ごとの変化が毎年似ている　→ 2月ごとにone-hotencoding"
   ]
  },
  {
   "cell_type": "code",
   "execution_count": null,
   "id": "92121d21-6292-4830-9817-5a48cd3204d0",
   "metadata": {},
   "outputs": [
    {
     "data": {
      "text/plain": [
       "<matplotlib.legend.Legend at 0x7fca787e1510>"
      ]
     },
     "execution_count": 44,
     "metadata": {},
     "output_type": "execute_result"
    },
    {
     "data": {
      "image/png": "[encoded data removed]",
      "text/plain": [
       "<Figure size 432x288 with 1 Axes>"
      ]
     },
     "metadata": {
      "needs_background": "light"
     },
     "output_type": "display_data"
    }
   ],
   "source": [
    "train_df_2017 = train_df[train_df['year'] == 2017]\n",
    "train_df_2018 = train_df[train_df['year'] == 2018]\n",
    "train_df_2019 = train_df[train_df['year'] == 2019]\n",
    "train_df_2020 = train_df[train_df['year'] == 2020]\n",
    "\n",
    "plt.plot(train_df_2017.groupby('month').median()['num_sold'], label='2017')\n",
    "plt.plot(train_df_2018.groupby('month').median()['num_sold'], label='2018')\n",
    "plt.plot(train_df_2019.groupby('month').median()['num_sold'], label='2019')\n",
    "plt.plot(train_df_2020.groupby('month').median()['num_sold'], label='2020')\n",
    "plt.legend()"
   ]
  },
  {
   "cell_type": "code",
   "execution_count": 45,
   "id": "b101f6ff-0a8f-4caa-a03f-ea89d25378e0",
   "metadata": {},
   "outputs": [
    {
     "data": {
      "text/plain": [
       "<matplotlib.legend.Legend at 0x7fca78949390>"
      ]
     },
     "execution_count": 45,
     "metadata": {},
     "output_type": "execute_result"
    },
    {
     "data": {
      "image/png": "[encoded data removed]",
      "text/plain": [
       "<Figure size 432x288 with 1 Axes>"
      ]
     },
     "metadata": {
      "needs_background": "light"
     },
     "output_type": "display_data"
    }
   ],
   "source": [
    "plt.plot(train_df_2017.groupby('month').median()['num_sold'], label='2017')\n",
    "plt.plot(train_df_2018.groupby('month').median()['num_sold'], label='2018')\n",
    "plt.plot(train_df_2019.groupby('month').median()['num_sold'], label='2019')\n",
    "plt.legend()"
   ]
  },
  {
   "cell_type": "code",
   "execution_count": 48,
   "id": "1c6ca098-450f-43bc-8773-887142024d0e",
   "metadata": {},
   "outputs": [
    {
     "data": {
      "text/plain": [
       "'2017-01-01'"
      ]
     },
     "execution_count": 48,
     "metadata": {},
     "output_type": "execute_result"
    }
   ],
   "source": [
    "train_df['date'][0]"
   ]
  },
  {
   "cell_type": "code",
   "execution_count": 49,
   "id": "bcfd7e9c-8169-456c-87ba-60a0a6682fb0",
   "metadata": {},
   "outputs": [
    {
     "data": {
      "text/plain": [
       "0         1\n",
       "1         1\n",
       "2         1\n",
       "3         1\n",
       "4         1\n",
       "         ..\n",
       "70123    31\n",
       "70124    31\n",
       "70125    31\n",
       "70126    31\n",
       "70127    31\n",
       "Name: day, Length: 70128, dtype: int64"
      ]
     },
     "execution_count": 49,
     "metadata": {},
     "output_type": "execute_result"
    }
   ],
   "source": [
    "train_df['day'] = train_df['date'].apply(lambda x: int(x[8:]))\n",
    "test_df['day'] = test_df['date'].apply(lambda x: int(x[8:]))\n",
    "train_df['day']"
   ]
  },
  {
   "cell_type": "markdown",
   "id": "ac0555e2-3535-46d5-86ba-f657fda0ad55",
   "metadata": {},
   "source": [
    "### 日ごとのデータ数"
   ]
  },
  {
   "cell_type": "code",
   "execution_count": 52,
   "id": "501b3cab-416b-433b-b986-e7436302eff6",
   "metadata": {},
   "outputs": [
    {
     "data": {
      "text/plain": [
       "<AxesSubplot:>"
      ]
     },
     "execution_count": 52,
     "metadata": {},
     "output_type": "execute_result"
    },
    {
     "data": {
      "image/png": "[encoded data removed]",
      "text/plain": [
       "<Figure size 432x288 with 1 Axes>"
      ]
     },
     "metadata": {
      "needs_background": "light"
     },
     "output_type": "display_data"
    }
   ],
   "source": [
    "train_df['day'].value_counts().plot(kind='bar', rot=0)"
   ]
  },
  {
   "cell_type": "markdown",
   "id": "86120b17-b088-4330-b2a7-e31ac67a0fe2",
   "metadata": {},
   "source": [
    "### 日ごとのnum_soldの推移\n",
    "- 約１週間ごとの変化が繰り返されている　→ 週ごとに分ける"
   ]
  },
  {
   "cell_type": "code",
   "execution_count": 63,
   "id": "6b07975d-0c72-4840-a5f2-a9f623930893",
   "metadata": {},
   "outputs": [
    {
     "data": {
      "text/plain": [
       "[<matplotlib.lines.Line2D at 0x7fca793be7d0>]"
      ]
     },
     "execution_count": 63,
     "metadata": {},
     "output_type": "execute_result"
    },
    {
     "data": {
      "image/png": "[encoded data removed]",
      "text/plain": [
       "<Figure size 432x288 with 1 Axes>"
      ]
     },
     "metadata": {
      "needs_background": "light"
     },
     "output_type": "display_data"
    }
   ],
   "source": [
    "train_df_1 = train_df[(train_df['year'] == 2018) & (train_df['month'] == 11)]\n",
    "train_df_2 = train_df[(train_df['year'] == 2019) & (train_df['month'] == 11)]\n",
    "train_df_3 = train_df[(train_df['year'] == 2020) & (train_df['month'] == 11)]\n",
    "plt.plot(train_df_1.groupby('day').median()['num_sold'], label='2018/11')\n",
    "plt.plot(train_df_2.groupby('day').median()['num_sold'], label='2019/11')\n",
    "plt.plot(train_df_3.groupby('day').median()['num_sold'], label='2020/11')\n",
    "plt.legend()"
   ]
  },
  {
   "cell_type": "markdown",
   "id": "6e49bcca-0447-4090-9ad0-2200f355459c",
   "metadata": {},
   "source": [
    "## 日付データに対する前処理"
   ]
  },
  {
   "cell_type": "code",
   "execution_count": 66,
   "id": "e41c5ebd-d70b-4fe0-b025-0a1972b08d0b",
   "metadata": {},
   "outputs": [
    {
     "data": {
      "text/html": [
       "<div>\n",
       "<style scoped>\n",
       "    .dataframe tbody tr th:only-of-type {\n",
       "        vertical-align: middle;\n",
       "    }\n",
       "\n",
       "    .dataframe tbody tr th {\n",
       "        vertical-align: top;\n",
       "    }\n",
       "\n",
       "    .dataframe thead th {\n",
       "        text-align: right;\n",
       "    }\n",
       "</style>\n",
       "<table border=\"1\" class=\"dataframe\">\n",
       "  <thead>\n",
       "    <tr style=\"text-align: right;\">\n",
       "      <th></th>\n",
       "      <th>row_id</th>\n",
       "      <th>date</th>\n",
       "      <th>country</th>\n",
       "      <th>store</th>\n",
       "      <th>product</th>\n",
       "      <th>num_sold</th>\n",
       "      <th>year</th>\n",
       "      <th>month</th>\n",
       "      <th>day</th>\n",
       "    </tr>\n",
       "  </thead>\n",
       "  <tbody>\n",
       "    <tr>\n",
       "      <th>0</th>\n",
       "      <td>0</td>\n",
       "      <td>2017-01-01</td>\n",
       "      <td>Belgium</td>\n",
       "      <td>KaggleMart</td>\n",
       "      <td>Kaggle Advanced Techniques</td>\n",
       "      <td>663</td>\n",
       "      <td>2017</td>\n",
       "      <td>1</td>\n",
       "      <td>1</td>\n",
       "    </tr>\n",
       "    <tr>\n",
       "      <th>1</th>\n",
       "      <td>1</td>\n",
       "      <td>2017-01-01</td>\n",
       "      <td>Belgium</td>\n",
       "      <td>KaggleMart</td>\n",
       "      <td>Kaggle Getting Started</td>\n",
       "      <td>615</td>\n",
       "      <td>2017</td>\n",
       "      <td>1</td>\n",
       "      <td>1</td>\n",
       "    </tr>\n",
       "  </tbody>\n",
       "</table>\n",
       "</div>"
      ],
      "text/plain": [
       "   row_id        date  country       store                     product  \\\n",
       "0       0  2017-01-01  Belgium  KaggleMart  Kaggle Advanced Techniques   \n",
       "1       1  2017-01-01  Belgium  KaggleMart      Kaggle Getting Started   \n",
       "\n",
       "   num_sold  year  month  day  \n",
       "0       663  2017      1    1  \n",
       "1       615  2017      1    1  "
      ]
     },
     "execution_count": 66,
     "metadata": {},
     "output_type": "execute_result"
    }
   ],
   "source": [
    "train_df.head(2)"
   ]
  },
  {
   "cell_type": "code",
   "execution_count": 75,
   "id": "a71697b0-5888-4d98-9045-b8a16291bcc0",
   "metadata": {},
   "outputs": [
    {
     "data": {
      "text/plain": [
       "0        01\n",
       "1        01\n",
       "2        01\n",
       "3        01\n",
       "4        01\n",
       "         ..\n",
       "70123    12\n",
       "70124    12\n",
       "70125    12\n",
       "70126    12\n",
       "70127    12\n",
       "Name: month, Length: 70128, dtype: object"
      ]
     },
     "execution_count": 75,
     "metadata": {},
     "output_type": "execute_result"
    }
   ],
   "source": [
    "train_df['month'] = train_df['date'].apply(lambda x: x[5:7])\n",
    "test_df['month'] = test_df['date'].apply(lambda x: x[5:7])\n",
    "train_df['month']"
   ]
  },
  {
   "cell_type": "code",
   "execution_count": 87,
   "id": "071e83e4-00a4-4067-a8c2-7cacbbb33184",
   "metadata": {},
   "outputs": [
    {
     "data": {
      "text/plain": [
       "weekday\n",
       "0    184.066188\n",
       "1    183.852472\n",
       "2    183.343202\n",
       "3    183.571372\n",
       "4    192.627704\n",
       "5    211.532853\n",
       "6    221.159589\n",
       "Name: num_sold, dtype: float64"
      ]
     },
     "execution_count": 87,
     "metadata": {},
     "output_type": "execute_result"
    }
   ],
   "source": [
    "train_df['date'] = pd.to_datetime(train_df['date'])\n",
    "test_df['date'] = pd.to_datetime(test_df['date'])\n",
    "train_df['weekday'] = train_df['date'].dt.weekday\n",
    "test_df['weekday'] = train_df['date'].dt.weekday\n",
    "train_df.groupby('weekday').mean()['num_sold']"
   ]
  },
  {
   "cell_type": "code",
   "execution_count": 88,
   "id": "54258827-d966-45b4-b3c3-6c84b02177c7",
   "metadata": {},
   "outputs": [
    {
     "data": {
      "text/html": [
       "<div>\n",
       "<style scoped>\n",
       "    .dataframe tbody tr th:only-of-type {\n",
       "        vertical-align: middle;\n",
       "    }\n",
       "\n",
       "    .dataframe tbody tr th {\n",
       "        vertical-align: top;\n",
       "    }\n",
       "\n",
       "    .dataframe thead th {\n",
       "        text-align: right;\n",
       "    }\n",
       "</style>\n",
       "<table border=\"1\" class=\"dataframe\">\n",
       "  <thead>\n",
       "    <tr style=\"text-align: right;\">\n",
       "      <th></th>\n",
       "      <th>row_id</th>\n",
       "      <th>date</th>\n",
       "      <th>country</th>\n",
       "      <th>store</th>\n",
       "      <th>product</th>\n",
       "      <th>num_sold</th>\n",
       "      <th>year</th>\n",
       "      <th>month</th>\n",
       "      <th>day</th>\n",
       "      <th>weekday</th>\n",
       "    </tr>\n",
       "  </thead>\n",
       "  <tbody>\n",
       "    <tr>\n",
       "      <th>0</th>\n",
       "      <td>0</td>\n",
       "      <td>2017-01-01</td>\n",
       "      <td>Belgium</td>\n",
       "      <td>KaggleMart</td>\n",
       "      <td>Kaggle Advanced Techniques</td>\n",
       "      <td>663</td>\n",
       "      <td>2017</td>\n",
       "      <td>01</td>\n",
       "      <td>1</td>\n",
       "      <td>6</td>\n",
       "    </tr>\n",
       "  </tbody>\n",
       "</table>\n",
       "</div>"
      ],
      "text/plain": [
       "   row_id       date  country       store                     product  \\\n",
       "0       0 2017-01-01  Belgium  KaggleMart  Kaggle Advanced Techniques   \n",
       "\n",
       "   num_sold  year month  day  weekday  \n",
       "0       663  2017    01    1        6  "
      ]
     },
     "execution_count": 88,
     "metadata": {},
     "output_type": "execute_result"
    }
   ],
   "source": [
    "train_df.head(1)"
   ]
  },
  {
   "cell_type": "code",
   "execution_count": 90,
   "id": "b5be57f5-cec2-4b63-86fb-ecf09fd48803",
   "metadata": {},
   "outputs": [],
   "source": [
    "train_df = train_df.drop(['date', 'day'], axis=1)\n",
    "test_df = test_df.drop(['date', 'day'], axis=1)"
   ]
  },
  {
   "cell_type": "code",
   "execution_count": 91,
   "id": "8e42f367-003c-4260-864a-41e664581e72",
   "metadata": {},
   "outputs": [
    {
     "data": {
      "text/html": [
       "<div>\n",
       "<style scoped>\n",
       "    .dataframe tbody tr th:only-of-type {\n",
       "        vertical-align: middle;\n",
       "    }\n",
       "\n",
       "    .dataframe tbody tr th {\n",
       "        vertical-align: top;\n",
       "    }\n",
       "\n",
       "    .dataframe thead th {\n",
       "        text-align: right;\n",
       "    }\n",
       "</style>\n",
       "<table border=\"1\" class=\"dataframe\">\n",
       "  <thead>\n",
       "    <tr style=\"text-align: right;\">\n",
       "      <th></th>\n",
       "      <th>row_id</th>\n",
       "      <th>country</th>\n",
       "      <th>store</th>\n",
       "      <th>product</th>\n",
       "      <th>num_sold</th>\n",
       "      <th>year</th>\n",
       "      <th>month</th>\n",
       "      <th>weekday</th>\n",
       "    </tr>\n",
       "  </thead>\n",
       "  <tbody>\n",
       "    <tr>\n",
       "      <th>0</th>\n",
       "      <td>0</td>\n",
       "      <td>Belgium</td>\n",
       "      <td>KaggleMart</td>\n",
       "      <td>Kaggle Advanced Techniques</td>\n",
       "      <td>663</td>\n",
       "      <td>2017</td>\n",
       "      <td>01</td>\n",
       "      <td>6</td>\n",
       "    </tr>\n",
       "    <tr>\n",
       "      <th>1</th>\n",
       "      <td>1</td>\n",
       "      <td>Belgium</td>\n",
       "      <td>KaggleMart</td>\n",
       "      <td>Kaggle Getting Started</td>\n",
       "      <td>615</td>\n",
       "      <td>2017</td>\n",
       "      <td>01</td>\n",
       "      <td>6</td>\n",
       "    </tr>\n",
       "    <tr>\n",
       "      <th>2</th>\n",
       "      <td>2</td>\n",
       "      <td>Belgium</td>\n",
       "      <td>KaggleMart</td>\n",
       "      <td>Kaggle Recipe Book</td>\n",
       "      <td>480</td>\n",
       "      <td>2017</td>\n",
       "      <td>01</td>\n",
       "      <td>6</td>\n",
       "    </tr>\n",
       "    <tr>\n",
       "      <th>3</th>\n",
       "      <td>3</td>\n",
       "      <td>Belgium</td>\n",
       "      <td>KaggleMart</td>\n",
       "      <td>Kaggle for Kids: One Smart Goose</td>\n",
       "      <td>710</td>\n",
       "      <td>2017</td>\n",
       "      <td>01</td>\n",
       "      <td>6</td>\n",
       "    </tr>\n",
       "    <tr>\n",
       "      <th>4</th>\n",
       "      <td>4</td>\n",
       "      <td>Belgium</td>\n",
       "      <td>KaggleRama</td>\n",
       "      <td>Kaggle Advanced Techniques</td>\n",
       "      <td>240</td>\n",
       "      <td>2017</td>\n",
       "      <td>01</td>\n",
       "      <td>6</td>\n",
       "    </tr>\n",
       "  </tbody>\n",
       "</table>\n",
       "</div>"
      ],
      "text/plain": [
       "   row_id  country       store                           product  num_sold  \\\n",
       "0       0  Belgium  KaggleMart        Kaggle Advanced Techniques       663   \n",
       "1       1  Belgium  KaggleMart            Kaggle Getting Started       615   \n",
       "2       2  Belgium  KaggleMart                Kaggle Recipe Book       480   \n",
       "3       3  Belgium  KaggleMart  Kaggle for Kids: One Smart Goose       710   \n",
       "4       4  Belgium  KaggleRama        Kaggle Advanced Techniques       240   \n",
       "\n",
       "   year month  weekday  \n",
       "0  2017    01        6  \n",
       "1  2017    01        6  \n",
       "2  2017    01        6  \n",
       "3  2017    01        6  \n",
       "4  2017    01        6  "
      ]
     },
     "execution_count": 91,
     "metadata": {},
     "output_type": "execute_result"
    }
   ],
   "source": [
    "train_df.head()"
   ]
  },
  {
   "cell_type": "markdown",
   "id": "9d36499c-5ae1-46e3-97ce-da96af8a0059",
   "metadata": {},
   "source": [
    "### 特徴量と目的変数"
   ]
  },
  {
   "cell_type": "code",
   "execution_count": 92,
   "id": "60e7e0fc-ff6b-4f02-a7ab-7694fe008360",
   "metadata": {},
   "outputs": [],
   "source": [
    "y_col = 'num_sold'\n",
    "X = train_df.loc[:, train_df.columns!=y_col]\n",
    "y = train_df[y_col]"
   ]
  },
  {
   "cell_type": "code",
   "execution_count": 93,
   "id": "98fa82d9-adac-4c2d-beae-2fa56dcc6a6e",
   "metadata": {},
   "outputs": [
    {
     "data": {
      "text/plain": [
       "['year', 'weekday']"
      ]
     },
     "execution_count": 93,
     "metadata": {},
     "output_type": "execute_result"
    }
   ],
   "source": [
    "X = X.drop('row_id', axis=1)\n",
    "index_test = test_df['row_id']\n",
    "test_df = test_df.drop('row_id', axis=1)\n",
    "# 数値カラムの取得\n",
    "numeric_cols = X.select_dtypes(include=np.number).columns.to_list()\n",
    "numeric_cols"
   ]
  },
  {
   "cell_type": "markdown",
   "id": "2cb490ee-cbc4-4ba1-9ecd-d2f1a0adb9e4",
   "metadata": {},
   "source": [
    "### one-hot-encoding"
   ]
  },
  {
   "cell_type": "code",
   "execution_count": 94,
   "id": "748cd6f1-6499-4bdc-8422-36ec312c451e",
   "metadata": {},
   "outputs": [
    {
     "data": {
      "text/plain": [
       "array(['Belgium', 'France', 'Germany', 'Italy', 'Poland', 'Spain'],\n",
       "      dtype=object)"
      ]
     },
     "execution_count": 94,
     "metadata": {},
     "output_type": "execute_result"
    }
   ],
   "source": [
    "X['country'].unique()"
   ]
  },
  {
   "cell_type": "code",
   "execution_count": 95,
   "id": "b6a6fcbf-0209-4b1d-97cb-6324456b76fd",
   "metadata": {},
   "outputs": [
    {
     "data": {
      "text/plain": [
       "array(['KaggleMart', 'KaggleRama'], dtype=object)"
      ]
     },
     "execution_count": 95,
     "metadata": {},
     "output_type": "execute_result"
    }
   ],
   "source": [
    "X['store'].unique()"
   ]
  },
  {
   "cell_type": "code",
   "execution_count": 96,
   "id": "f070f70b-2cdf-4975-a69f-0649f5106e22",
   "metadata": {},
   "outputs": [
    {
     "data": {
      "text/plain": [
       "array(['Kaggle Advanced Techniques', 'Kaggle Getting Started',\n",
       "       'Kaggle Recipe Book', 'Kaggle for Kids: One Smart Goose'],\n",
       "      dtype=object)"
      ]
     },
     "execution_count": 96,
     "metadata": {},
     "output_type": "execute_result"
    }
   ],
   "source": [
    "X['product'].unique()"
   ]
  },
  {
   "cell_type": "code",
   "execution_count": 97,
   "id": "babd947a-5252-459e-a6a5-24c7d77eb55c",
   "metadata": {},
   "outputs": [],
   "source": [
    "X = pd.get_dummies(X, drop_first=True)\n",
    "test_df = pd.get_dummies(test_df, drop_first=True)"
   ]
  },
  {
   "cell_type": "markdown",
   "id": "ed8a1718-72fd-4979-8d1b-d42ea69b225c",
   "metadata": {},
   "source": [
    "### 標準化"
   ]
  },
  {
   "cell_type": "code",
   "execution_count": 99,
   "id": "d832eeb2-0383-4197-804f-fcb3ce741bcf",
   "metadata": {},
   "outputs": [],
   "source": [
    "X_train, X_test, y_train, y_test = train_test_split(X, y, test_size=0.3, random_state=0)\n",
    "scaler = StandardScaler()\n",
    "X_train[numeric_cols] = scaler.fit_transform(X_train[numeric_cols])\n",
    "X_test[numeric_cols] = scaler.transform(X_test[numeric_cols])"
   ]
  },
  {
   "cell_type": "markdown",
   "id": "fda0c140-d03f-4382-91eb-2bb22056e70e",
   "metadata": {},
   "source": [
    "## 最適なLasso"
   ]
  },
  {
   "cell_type": "code",
   "execution_count": 100,
   "id": "eb9ccc8c-99c2-4634-8e8b-915849b8b68a",
   "metadata": {},
   "outputs": [],
   "source": [
    "alphas = np.logspace(-3, 3)# 1e-3から1e3までを50個に分割したリスト\n",
    "smape_list = []\n",
    "coefs = []\n",
    "for alpha in alphas:\n",
    "    model = Lasso(alpha)\n",
    "    model.fit(X_train, y_train)\n",
    "    y_pred = model.predict(X_test)\n",
    "    smape = mean_absolute_percentage_error(y_test, y_pred)\n",
    "    smape_list.append(smape)\n",
    "    coefs.append(model.coef_)"
   ]
  },
  {
   "cell_type": "code",
   "execution_count": 101,
   "id": "4f19daf2-5e64-4f22-9a4c-419f625bbfc5",
   "metadata": {},
   "outputs": [
    {
     "data": {
      "text/plain": [
       "Text(0, 0.5, 'test SMAPE')"
      ]
     },
     "execution_count": 101,
     "metadata": {},
     "output_type": "execute_result"
    },
    {
     "data": {
      "image/png": "[encoded data removed]",
      "text/plain": [
       "<Figure size 432x288 with 1 Axes>"
      ]
     },
     "metadata": {
      "needs_background": "light"
     },
     "output_type": "display_data"
    }
   ],
   "source": [
    "plt.plot(alphas, smape_list)\n",
    "plt.xscale('log')\n",
    "plt.xlabel('lambda')\n",
    "plt.ylabel('test SMAPE')"
   ]
  },
  {
   "cell_type": "code",
   "execution_count": 102,
   "id": "2a4efe42-2242-41e4-af0b-6714a1ebb059",
   "metadata": {},
   "outputs": [
    {
     "data": {
      "text/plain": [
       "Text(0, 0.5, 'standardized coefficients')"
      ]
     },
     "execution_count": 102,
     "metadata": {},
     "output_type": "execute_result"
    },
    {
     "data": {
      "image/png": "[encoded data removed]",
      "text/plain": [
       "<Figure size 432x288 with 1 Axes>"
      ]
     },
     "metadata": {
      "needs_background": "light"
     },
     "output_type": "display_data"
    }
   ],
   "source": [
    "plt.plot(alphas, coefs)\n",
    "plt.xscale('log')\n",
    "plt.xlabel('lambda')\n",
    "plt.ylabel('standardized coefficients')"
   ]
  },
  {
   "cell_type": "markdown",
   "id": "31f76b56-4f89-4c61-81fe-300897253bcd",
   "metadata": {},
   "source": [
    "## モデルの学習"
   ]
  },
  {
   "cell_type": "code",
   "execution_count": 103,
   "id": "d632b062-747d-4ec3-825e-2c9e2006c542",
   "metadata": {},
   "outputs": [
    {
     "data": {
      "text/plain": [
       "Lasso(alpha=2.6826957952797246)"
      ]
     },
     "execution_count": 103,
     "metadata": {},
     "output_type": "execute_result"
    }
   ],
   "source": [
    "lasso = Lasso(alphas[np.argmin(smape_list)])\n",
    "lasso.fit(X_train, y_train)"
   ]
  },
  {
   "cell_type": "code",
   "execution_count": 104,
   "id": "f3c546c8-0b6f-484c-95d5-33f475e976b8",
   "metadata": {},
   "outputs": [
    {
     "data": {
      "text/plain": [
       "0.27862268425840897"
      ]
     },
     "execution_count": 104,
     "metadata": {},
     "output_type": "execute_result"
    }
   ],
   "source": [
    "y_pred = lasso.predict(X_test)\n",
    "smape = mean_absolute_percentage_error(y_test, y_pred)\n",
    "smape"
   ]
  },
  {
   "cell_type": "markdown",
   "id": "e0a86f39-26a5-453e-99e8-de14e0afb104",
   "metadata": {},
   "source": [
    "## テストデータに対する予測"
   ]
  },
  {
   "cell_type": "code",
   "execution_count": 105,
   "id": "ca1cd9d0-47e5-47a9-94c8-5498d9ad419d",
   "metadata": {},
   "outputs": [],
   "source": [
    "test_df[numeric_cols] = scaler.transform(test_df[numeric_cols])"
   ]
  },
  {
   "cell_type": "code",
   "execution_count": 106,
   "id": "2abb1dbe-2bf7-40c2-8578-84fe475f5f7b",
   "metadata": {},
   "outputs": [],
   "source": [
    "X_test = test_df.values"
   ]
  },
  {
   "cell_type": "code",
   "execution_count": 107,
   "id": "7a6d8316-d7f4-4f1c-886d-21c5419cc79b",
   "metadata": {},
   "outputs": [
    {
     "name": "stderr",
     "output_type": "stream",
     "text": [
      "/Users/atsus/opt/anaconda3/envs/py3-TF2.0/lib/python3.7/site-packages/sklearn/base.py:451: UserWarning: X does not have valid feature names, but Lasso was fitted with feature names\n",
      "  \"X does not have valid feature names, but\"\n"
     ]
    }
   ],
   "source": [
    "y_pred = lasso.predict(X_test)"
   ]
  },
  {
   "cell_type": "code",
   "execution_count": 108,
   "id": "328a39d1-04b1-44fb-a2fc-9a0d3ba48124",
   "metadata": {},
   "outputs": [
    {
     "data": {
      "text/plain": [
       "array([353.63090585, 331.02195573, 286.64073906, ..., 131.03312196,\n",
       "        86.65190529, 171.90108555])"
      ]
     },
     "execution_count": 108,
     "metadata": {},
     "output_type": "execute_result"
    }
   ],
   "source": [
    "y_pred"
   ]
  },
  {
   "cell_type": "code",
   "execution_count": 109,
   "id": "1ae971dc-c082-44db-b484-26c83b503cb0",
   "metadata": {},
   "outputs": [],
   "source": [
    "data = {\n",
    "    'row_id': index_test,\n",
    "    'num_sold': y_pred\n",
    "}\n",
    "sub = pd.DataFrame(data)"
   ]
  },
  {
   "cell_type": "code",
   "execution_count": 110,
   "id": "a1d6d3d1-7cb5-4660-aa59-0258e569547e",
   "metadata": {},
   "outputs": [
    {
     "data": {
      "text/html": [
       "<div>\n",
       "<style scoped>\n",
       "    .dataframe tbody tr th:only-of-type {\n",
       "        vertical-align: middle;\n",
       "    }\n",
       "\n",
       "    .dataframe tbody tr th {\n",
       "        vertical-align: top;\n",
       "    }\n",
       "\n",
       "    .dataframe thead th {\n",
       "        text-align: right;\n",
       "    }\n",
       "</style>\n",
       "<table border=\"1\" class=\"dataframe\">\n",
       "  <thead>\n",
       "    <tr style=\"text-align: right;\">\n",
       "      <th></th>\n",
       "      <th>row_id</th>\n",
       "      <th>num_sold</th>\n",
       "    </tr>\n",
       "  </thead>\n",
       "  <tbody>\n",
       "    <tr>\n",
       "      <th>0</th>\n",
       "      <td>70128</td>\n",
       "      <td>353.630906</td>\n",
       "    </tr>\n",
       "    <tr>\n",
       "      <th>1</th>\n",
       "      <td>70129</td>\n",
       "      <td>331.021956</td>\n",
       "    </tr>\n",
       "    <tr>\n",
       "      <th>2</th>\n",
       "      <td>70130</td>\n",
       "      <td>286.640739</td>\n",
       "    </tr>\n",
       "    <tr>\n",
       "      <th>3</th>\n",
       "      <td>70131</td>\n",
       "      <td>371.889919</td>\n",
       "    </tr>\n",
       "    <tr>\n",
       "      <th>4</th>\n",
       "      <td>70132</td>\n",
       "      <td>176.227514</td>\n",
       "    </tr>\n",
       "  </tbody>\n",
       "</table>\n",
       "</div>"
      ],
      "text/plain": [
       "   row_id    num_sold\n",
       "0   70128  353.630906\n",
       "1   70129  331.021956\n",
       "2   70130  286.640739\n",
       "3   70131  371.889919\n",
       "4   70132  176.227514"
      ]
     },
     "execution_count": 110,
     "metadata": {},
     "output_type": "execute_result"
    }
   ],
   "source": [
    "sub.head()"
   ]
  },
  {
   "cell_type": "code",
   "execution_count": 111,
   "id": "62a8509a-5e37-4ed4-a189-43372f326d17",
   "metadata": {},
   "outputs": [],
   "source": [
    "sub.to_csv('submission_6.csv', index=False)"
   ]
  },
  {
   "cell_type": "code",
   "execution_count": null,
   "id": "336da6a2-133b-47fa-8f40-23e801f8bb6d",
   "metadata": {},
   "outputs": [],
   "source": []
  }
 ],
 "metadata": {
  "kernelspec": {
   "display_name": "Python 3 (ipykernel)",
   "language": "python",
   "name": "python3"
  },
  "language_info": {
   "codemirror_mode": {
    "name": "ipython",
    "version": 3
   },
   "file_extension": ".py",
   "mimetype": "text/x-python",
   "name": "python",
   "nbconvert_exporter": "python",
   "pygments_lexer": "ipython3",
   "version": "3.7.13"
  }
 },
 "nbformat": 4,
 "nbformat_minor": 5
}
